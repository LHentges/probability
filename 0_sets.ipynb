{
 "cells": [
  {
   "cell_type": "markdown",
   "metadata": {},
   "source": [
    "# Basic set theory defintions, symbols, and diagrams\n",
    "Precursor to understanding counting methods. Generally pretty intuitive, though maybe deMorgan's laws less so..."
   ]
  },
  {
   "cell_type": "markdown",
   "metadata": {},
   "source": [
    "## Defintions\n",
    "**Set**\n",
    "* a collection of objects (elements)\n",
    "\n",
    "**Element**\n",
    "* an object in a set  \n",
    "\n",
    "**Subset**\n",
    "* a set where every element is contained in a different set\n",
    "\n",
    "**Empty set**\n",
    "* a set which contains no elements\n",
    "\n",
    "**Universal set**\n",
    "* a set which contains every element (in probability, usually the set of all possible outcomes)\n",
    "\n",
    "**Complement [set]**\n",
    "* a set containing all of the elements that are not contained in a referenced set\n",
    "\n",
    "**Intersection [of sets]**\n",
    "* the elements that are common to all referenced sets\n",
    "\n",
    "**Union [of sets]**\n",
    "* all elements contained in all referenced sets, including elements which are in more that one set"
   ]
  },
  {
   "cell_type": "markdown",
   "metadata": {},
   "source": [
    "## Symbols\n",
    "**S is a set with the elements x<sub>1</sub> and x<sub>2</sub>**  \n",
    "* $S = \\{x_{1}, x_{2}\\}$\n",
    "\n",
    "**The element x<sub>1</sub> is in set S**\n",
    "* $x_{1} \\in S$\n",
    "\n",
    "**S is a subset of T**\n",
    "* $S \\subset T$\n",
    "\n",
    "**Empty set**\n",
    "* $\\emptyset$\n",
    "\n",
    "**Universal set**\n",
    "* $\\Omega$\n",
    "\n",
    "**Complement of set S**\n",
    "* $S^{c}$\n",
    "* $\\{x \\in \\Omega \\mid x \\notin S\\}$\n",
    "\n",
    "**S intersect T**\n",
    "* $S \\cap T$\n",
    "* $\\{x \\mid x \\in S \\ and \\ x \\in T\\}$\n",
    "\n",
    "**S union T**\n",
    "* $S \\cup T$\n",
    "* $\\{x \\mid x \\in S \\ or \\ x \\in T\\}$"
   ]
  },
  {
   "cell_type": "markdown",
   "metadata": {},
   "source": []
  },
  {
   "cell_type": "code",
   "execution_count": null,
   "metadata": {},
   "outputs": [],
   "source": []
  }
 ],
 "metadata": {
  "kernelspec": {
   "display_name": "Python 3",
   "language": "python",
   "name": "python3"
  },
  "language_info": {
   "codemirror_mode": {
    "name": "ipython",
    "version": 3
   },
   "file_extension": ".py",
   "mimetype": "text/x-python",
   "name": "python",
   "nbconvert_exporter": "python",
   "pygments_lexer": "ipython3",
   "version": "3.7.0"
  }
 },
 "nbformat": 4,
 "nbformat_minor": 4
}
